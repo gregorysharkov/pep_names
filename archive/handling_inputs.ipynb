{
 "cells": [
  {
   "cell_type": "code",
   "execution_count": 2,
   "source": [
    "import os\r\n",
    "import datetime as datetime\r\n",
    "import tensorflow as tf\r\n",
    "import pandas as pd\r\n",
    "import numpy as np\r\n",
    "from tensorflow.keras.preprocessing.text import Tokenizer\r\n",
    "from tensorflow.keras.preprocessing.sequence import pad_sequences\r\n",
    "from tensorflow.keras.utils import to_categorical\r\n",
    "\r\n",
    "np.set_printoptions(precision=4)\r\n",
    "\r\n",
    "path = \"data\\\\combinations\\\\\"\r\n",
    "true_data = pd.read_csv(path+\"governors_true_match.csv\",sep=\";\")\r\n",
    "false_data = pd.read_csv(path+\"governors_false_match.csv\",sep=\";\")\r\n",
    "combined_data = pd.concat([true_data,false_data])\r\n",
    "combined_data = combined_data.sample(frac=1,random_state=20210826)\r\n",
    "names = sorted(set(list(combined_data.governor) + list(combined_data.combinations)))\r\n",
    "words = sorted(set(word for name in list(map(str.split,names)) for word in name))\r\n",
    "vocab = sorted(set(character for word in words for character in word))\r\n",
    "\r\n",
    "governors_list = list(combined_data.governor)\r\n",
    "combination_list = list(combined_data.combinations)\r\n",
    "match = list(combined_data.match)\r\n",
    "\r\n",
    "tk = Tokenizer(num_words=None, char_level=True, oov_token=\"UNK\")\r\n",
    "tk.fit_on_texts(governors_list+combination_list)\r\n",
    "\r\n",
    "def preprocess_list(lst,tokenizer,max_len=None):\r\n",
    "    return_seq = tokenizer.texts_to_sequences(lst)\r\n",
    "    return np.array(pad_sequences(return_seq, maxlen=max_len,padding=\"post\"),dtype=\"float32\")\r\n",
    "\r\n",
    "governor_seq = preprocess_list(governors_list,tk,30)\r\n",
    "combination_seq = preprocess_list(combination_list,tk,30)\r\n",
    "match_seq = np.array(match)\r\n",
    "\r\n",
    "#let's crate the training dataset and do the splits\r\n",
    "data = tf.data.Dataset.from_tensor_slices(((governor_seq,combination_seq),match_seq)).shuffle(10).batch(1000)\r\n",
    "train_ratio = .6\r\n",
    "val_ratio = .2\r\n",
    "test_ratio = .2\r\n",
    "\r\n",
    "train_batches = int(len(data) * train_ratio)\r\n",
    "val_batches = int(len(data) * val_ratio)\r\n",
    "test_batches = int(len(data) * test_ratio)\r\n",
    "\r\n",
    "train_data = data.take(train_batches)\r\n",
    "test_data = data.skip(train_batches)\r\n",
    "val_data = test_data.take(val_batches)\r\n",
    "test_data = test_data.skip(test_batches)\r\n"
   ],
   "outputs": [],
   "metadata": {}
  },
  {
   "cell_type": "code",
   "execution_count": 3,
   "source": [
    "from model_settings import InnerModelSettings, OuterModelSettings, FitSettings\r\n",
    "from char_level_rnn_with_attention import OuterModel\r\n",
    "\r\n",
    "def create_model(inner_settings:InnerModelSettings,outer_settings:OuterModelSettings):\r\n",
    "    model = OuterModel(inner_settings)\r\n",
    "    \r\n",
    "    model.compile(\r\n",
    "        loss= outer_settings.loss, \r\n",
    "        optimizer=outer_settings.optimizer,\r\n",
    "        metrics=outer_settings.metrics,\r\n",
    "    )\r\n",
    "\r\n",
    "    return model\r\n",
    "\r\n",
    "def fit_model(model: tf.keras.Model,\r\n",
    "              train_data: tf.data.Dataset,\r\n",
    "              val_data: tf.data.Dataset,\r\n",
    "              fit_settings: FitSettings,\r\n",
    "              print_summary:bool=False):\r\n",
    "\r\n",
    "    log_dir = \"logs/fit/\" + datetime.datetime.now().strftime(\"%Y%m%d-%H%M%S\")\r\n",
    "    print(f\"logs will be saved to: {log_dir}\")\r\n",
    "    checkpoint_path = log_dir + \"/weights/cp-{epoch:02d}.ckpt\"\r\n",
    "\r\n",
    "    tensorboard_callback = tf.keras.callbacks.TensorBoard(\r\n",
    "        log_dir=log_dir, \r\n",
    "        histogram_freq=1\r\n",
    "    )\r\n",
    "\r\n",
    "    checkpoints_callback = tf.keras.callbacks.ModelCheckpoint(\r\n",
    "        filepath = checkpoint_path,\r\n",
    "        verboise=1,\r\n",
    "        save_weights_only=True,\r\n",
    "        save_best_only=True\r\n",
    "    )\r\n",
    "\r\n",
    "    fit_settings.callbacks = [tensorboard_callback,checkpoints_callback]\r\n",
    "\r\n",
    "    model.fit(\r\n",
    "        train_data,\r\n",
    "        batch_size = fit_settings.batch_size,\r\n",
    "        epochs = fit_settings.epochs,\r\n",
    "        validation_data = val_data,\r\n",
    "        verbose=fit_settings.verbose,\r\n",
    "        callbacks=fit_settings.callbacks\r\n",
    "    )\r\n",
    "    \r\n",
    "    if print_summary:\r\n",
    "        print(model.summary())\r\n",
    "        \r\n",
    "    return model\r\n",
    "\r\n",
    "def compare_representations(input_a, input_b, model, debug=False,give_representations=False):\r\n",
    "    outer_model = model\r\n",
    "    prediction = outer_model((input_a.reshape(-1,len(input_a)),input_b.reshape(-1,len(input_b))))\r\n",
    "\r\n",
    "    if debug:\r\n",
    "        if give_representations:\r\n",
    "            print(f\"Representation of A: {outer_model.repr_a}\")\r\n",
    "            print(f\"Representation of B: {outer_model.repr_b}\")\r\n",
    "        print(f\"Similarity: {outer_model.cosine_similarity[0]:.4f}\")\r\n",
    "        print(f\"Prediction: {prediction[0][0]:.4f} => {np.round(prediction[0][0],0)}\")\r\n",
    "\r\n",
    "\r\n",
    "    return outer_model.cosine_similarity, (outer_model.repr_a,outer_model.repr_a)"
   ],
   "outputs": [],
   "metadata": {}
  },
  {
   "cell_type": "markdown",
   "source": [
    "# Now, let's train the base model\r\n"
   ],
   "metadata": {}
  },
  {
   "cell_type": "code",
   "execution_count": 4,
   "source": [
    "# Load the TensorBoard notebook extension\r\n",
    "%load_ext tensorboard\r\n",
    "\r\n",
    "inner_settings_1 = InnerModelSettings(\r\n",
    "    input_embedding = 129,\r\n",
    "    n_embedding_dims = 512,\r\n",
    "    n_gru = 40,\r\n",
    "    n_dense = 80,\r\n",
    "    n_units_attention=40\r\n",
    ")\r\n",
    "\r\n",
    "outer_settings_1 = OuterModelSettings(\r\n",
    "    loss = tf.keras.losses.BinaryCrossentropy(),\r\n",
    "    optimizer = tf.keras.optimizers.Adam(1e-4),\r\n",
    "    metrics = [tf.keras.metrics.BinaryAccuracy(name=\"accuracy\"),\r\n",
    "               tf.keras.metrics.Precision(name=\"precision\")]\r\n",
    ")\r\n",
    "\r\n",
    "fit_settings_1 = FitSettings(\r\n",
    "    batch_size = 1000,\r\n",
    "    epochs = 10,\r\n",
    "    verbose=2,\r\n",
    "    callbacks=[]\r\n",
    ")\r\n"
   ],
   "outputs": [],
   "metadata": {}
  },
  {
   "cell_type": "code",
   "execution_count": 4,
   "source": [
    "\r\n",
    "model_1 = create_model(inner_settings_1,outer_settings_1)\r\n",
    "model_1 = fit_model(model_1,train_data,val_data,fit_settings_1,True)"
   ],
   "outputs": [
    {
     "output_type": "stream",
     "name": "stdout",
     "text": [
      "The tensorboard extension is already loaded. To reload it, use:\n",
      "  %reload_ext tensorboard\n",
      "logs will be saved to: logs/fit/20210906-132920\n",
      "Epoch 1/10\n",
      "184/184 - 55s - loss: 0.6854 - accuracy: 0.3820 - precision: 0.3623 - val_loss: 0.6876 - val_accuracy: 0.3694 - val_precision: 0.3553\n",
      "Epoch 2/10\n",
      "184/184 - 26s - loss: 0.6697 - accuracy: 0.4416 - precision: 0.3862 - val_loss: 0.6678 - val_accuracy: 0.4337 - val_precision: 0.3802\n",
      "Epoch 3/10\n",
      "184/184 - 26s - loss: 0.6605 - accuracy: 0.4999 - precision: 0.4127 - val_loss: 0.6550 - val_accuracy: 0.5035 - val_precision: 0.4116\n",
      "Epoch 4/10\n",
      "184/184 - 26s - loss: 0.6531 - accuracy: 0.5530 - precision: 0.4402 - val_loss: 0.6476 - val_accuracy: 0.5612 - val_precision: 0.4418\n",
      "Epoch 5/10\n",
      "184/184 - 26s - loss: 0.6463 - accuracy: 0.6088 - precision: 0.4733 - val_loss: 0.6405 - val_accuracy: 0.6204 - val_precision: 0.4779\n",
      "Epoch 6/10\n",
      "184/184 - 26s - loss: 0.6400 - accuracy: 0.6580 - precision: 0.5071 - val_loss: 0.6343 - val_accuracy: 0.6741 - val_precision: 0.5162\n",
      "Epoch 7/10\n",
      "184/184 - 26s - loss: 0.6341 - accuracy: 0.7022 - precision: 0.5417 - val_loss: 0.6283 - val_accuracy: 0.7190 - val_precision: 0.5533\n",
      "Epoch 8/10\n",
      "184/184 - 26s - loss: 0.6285 - accuracy: 0.7419 - precision: 0.5773 - val_loss: 0.6227 - val_accuracy: 0.7561 - val_precision: 0.5885\n",
      "Epoch 9/10\n",
      "184/184 - 26s - loss: 0.6229 - accuracy: 0.7758 - precision: 0.6118 - val_loss: 0.6169 - val_accuracy: 0.7880 - val_precision: 0.6225\n",
      "Epoch 10/10\n",
      "184/184 - 26s - loss: 0.6175 - accuracy: 0.8030 - precision: 0.6424 - val_loss: 0.6116 - val_accuracy: 0.8138 - val_precision: 0.6531\n",
      "Model: \"outer_model_1\"\n",
      "_________________________________________________________________\n",
      "Layer (type)                 Output Shape              Param #   \n",
      "=================================================================\n",
      "inner_model_1 (InnerModel)   multiple                  240521    \n",
      "_________________________________________________________________\n",
      "distance_layer_1 (DistanceLa multiple                  0         \n",
      "_________________________________________________________________\n",
      "output_layer (Dense)         multiple                  2         \n",
      "=================================================================\n",
      "Total params: 240,523\n",
      "Trainable params: 240,363\n",
      "Non-trainable params: 160\n",
      "_________________________________________________________________\n",
      "None\n"
     ]
    }
   ],
   "metadata": {}
  },
  {
   "cell_type": "code",
   "execution_count": 5,
   "source": [
    "model_1.inner_model.summary()"
   ],
   "outputs": [
    {
     "output_type": "stream",
     "name": "stdout",
     "text": [
      "Model: \"inner_model_1\"\n",
      "_________________________________________________________________\n",
      "Layer (type)                 Output Shape              Param #   \n",
      "=================================================================\n",
      "inner_embedding (Embedding)  multiple                  66560     \n",
      "_________________________________________________________________\n",
      "inner_dense_after_embedding  multiple                  0 (unused)\n",
      "_________________________________________________________________\n",
      "dropout_1 (Dropout)          multiple                  0         \n",
      "_________________________________________________________________\n",
      "inner_gru_1 (GRU)            multiple                  0 (unused)\n",
      "_________________________________________________________________\n",
      "inner_gru_2 (GRU)            multiple                  0 (unused)\n",
      "_________________________________________________________________\n",
      "attention_1 (Attention)      multiple                  4921      \n",
      "_________________________________________________________________\n",
      "inner_bidirectional_1 (Bidir multiple                  132960    \n",
      "_________________________________________________________________\n",
      "inner_bidirectional_2 (Bidir multiple                  29280     \n",
      "_________________________________________________________________\n",
      "inner_normalizer (BatchNorma multiple                  320       \n",
      "_________________________________________________________________\n",
      "inner_dense (Dense)          multiple                  6480      \n",
      "=================================================================\n",
      "Total params: 240,521\n",
      "Trainable params: 240,361\n",
      "Non-trainable params: 160\n",
      "_________________________________________________________________\n"
     ]
    }
   ],
   "metadata": {}
  },
  {
   "cell_type": "code",
   "execution_count": 6,
   "source": [
    "print(f\"Comparing '{governors_list[0]}' and '{combination_list[0]}'\")\r\n",
    "similarity, representations = compare_representations(\r\n",
    "    governor_seq[0],\r\n",
    "    combination_seq[0],\r\n",
    "    model_1,\r\n",
    "    True\r\n",
    ")\r\n"
   ],
   "outputs": [
    {
     "output_type": "stream",
     "name": "stdout",
     "text": [
      "Comparing 'john rettie mckernan' and 'john buchanan floyd jr.'\n",
      "Similarity: 0.1200\n",
      "Prediction: 0.4770 => 0.0\n"
     ]
    }
   ],
   "metadata": {}
  },
  {
   "cell_type": "code",
   "execution_count": 7,
   "source": [
    "\r\n",
    "print(f\"Comparing '{governors_list[0]}' and '{combination_list[1]}'\")\r\n",
    "similarity, representations = compare_representations(\r\n",
    "    governor_seq[0],\r\n",
    "    combination_seq[1],\r\n",
    "    model_1,\r\n",
    "    True\r\n",
    ")\r\n"
   ],
   "outputs": [
    {
     "output_type": "stream",
     "name": "stdout",
     "text": [
      "Comparing 'john rettie mckernan' and 'william prentice cooper'\n",
      "Similarity: 0.1764\n",
      "Prediction: 0.4876 => 0.0\n"
     ]
    }
   ],
   "metadata": {}
  },
  {
   "cell_type": "code",
   "execution_count": 8,
   "source": [
    "my_test = [\"Bill Gates\",\"Gates William\"]\r\n",
    "my_test_seq = preprocess_list(my_test, tk)\r\n",
    "\r\n",
    "print(f\"Comparing '{my_test[0]}' and '{my_test[1]}'\")\r\n",
    "similarity, representations = compare_representations(\r\n",
    "    my_test_seq[0],\r\n",
    "    my_test_seq[1],\r\n",
    "    model_1,\r\n",
    "    True\r\n",
    ")"
   ],
   "outputs": [
    {
     "output_type": "stream",
     "name": "stdout",
     "text": [
      "Comparing 'Bill Gates' and 'Gates William'\n",
      "Similarity: 0.6044\n",
      "Prediction: 0.5675 => 1.0\n"
     ]
    }
   ],
   "metadata": {}
  },
  {
   "cell_type": "code",
   "execution_count": 5,
   "source": [
    "def check_similarity(string_a, string_b, tokeniser, model, match=None, debug=False):\r\n",
    "    input_seq = preprocess_list([string_a,string_b],tokeniser,30)\r\n",
    "    input_seq = [x.reshape(1, len(x)) for x in input_seq]\r\n",
    "    prediction = model((input_seq[0],input_seq[1]))[0][0]\r\n",
    "\r\n",
    "    if debug:\r\n",
    "        print(\"********************************\")\r\n",
    "        print(f\"Comparing: '{string_a}' and '{string_b}'\")\r\n",
    "        print(f\"Cosine similarity = {model.cosine_similarity[0]:.4f}, prediction={prediction:.4f} true similarity = {match}\")\r\n",
    "    return np.round(model.cosine_similarity[0],4)\r\n",
    "\r\n",
    "for i in range(50):\r\n",
    "    check_similarity(governors_list[i],combination_list[i],tk, model_1,match[i],True)\r\n",
    "\r\n",
    "# predictions = []\r\n",
    "# for name_a, name_b, _match in zip(governors_list, combination_list, match):\r\n",
    "#     predictions.append(check_similarity(name_a,name_b,tk,model,_match,False))\r\n",
    "\r\n",
    "# print(predictions)\r\n"
   ],
   "outputs": [
    {
     "output_type": "error",
     "ename": "NameError",
     "evalue": "name 'model_1' is not defined",
     "traceback": [
      "\u001b[1;31m---------------------------------------------------------------------------\u001b[0m",
      "\u001b[1;31mNameError\u001b[0m                                 Traceback (most recent call last)",
      "\u001b[1;32m<ipython-input-5-4ca7f042ae40>\u001b[0m in \u001b[0;36m<module>\u001b[1;34m\u001b[0m\n\u001b[0;32m     11\u001b[0m \u001b[1;33m\u001b[0m\u001b[0m\n\u001b[0;32m     12\u001b[0m \u001b[1;32mfor\u001b[0m \u001b[0mi\u001b[0m \u001b[1;32min\u001b[0m \u001b[0mrange\u001b[0m\u001b[1;33m(\u001b[0m\u001b[1;36m50\u001b[0m\u001b[1;33m)\u001b[0m\u001b[1;33m:\u001b[0m\u001b[1;33m\u001b[0m\u001b[1;33m\u001b[0m\u001b[0m\n\u001b[1;32m---> 13\u001b[1;33m     \u001b[0mcheck_similarity\u001b[0m\u001b[1;33m(\u001b[0m\u001b[0mgovernors_list\u001b[0m\u001b[1;33m[\u001b[0m\u001b[0mi\u001b[0m\u001b[1;33m]\u001b[0m\u001b[1;33m,\u001b[0m\u001b[0mcombination_list\u001b[0m\u001b[1;33m[\u001b[0m\u001b[0mi\u001b[0m\u001b[1;33m]\u001b[0m\u001b[1;33m,\u001b[0m\u001b[0mtk\u001b[0m\u001b[1;33m,\u001b[0m \u001b[0mmodel_1\u001b[0m\u001b[1;33m,\u001b[0m\u001b[0mmatch\u001b[0m\u001b[1;33m[\u001b[0m\u001b[0mi\u001b[0m\u001b[1;33m]\u001b[0m\u001b[1;33m,\u001b[0m\u001b[1;32mTrue\u001b[0m\u001b[1;33m)\u001b[0m\u001b[1;33m\u001b[0m\u001b[1;33m\u001b[0m\u001b[0m\n\u001b[0m\u001b[0;32m     14\u001b[0m \u001b[1;33m\u001b[0m\u001b[0m\n\u001b[0;32m     15\u001b[0m \u001b[1;31m# predictions = []\u001b[0m\u001b[1;33m\u001b[0m\u001b[1;33m\u001b[0m\u001b[1;33m\u001b[0m\u001b[0m\n",
      "\u001b[1;31mNameError\u001b[0m: name 'model_1' is not defined"
     ]
    }
   ],
   "metadata": {}
  },
  {
   "cell_type": "code",
   "execution_count": null,
   "source": [
    "def text_from_ids(ids,dict=tk.word_index):\r\n",
    "    inv_dict = {v: k for k,v in tk.word_index.items()}\r\n",
    "    char_list = []\r\n",
    "    for id in ids:\r\n",
    "        if id not in inv_dict:\r\n",
    "            char = \"_\"\r\n",
    "        else:\r\n",
    "            char = inv_dict[id]\r\n",
    "        char_list.append(char)\r\n",
    "\r\n",
    "    return(\"\".join(char_list))\r\n",
    "\r\n",
    "print(text_from_ids(governor_seq[0]))\r\n",
    "print(text_from_ids(combination_seq[1]))\r\n",
    "\r\n",
    "print(governor_seq[0])\r\n",
    "print(combination_seq[1])"
   ],
   "outputs": [],
   "metadata": {}
  },
  {
   "cell_type": "markdown",
   "source": [
    "# Now let's work with restoring the model"
   ],
   "metadata": {}
  },
  {
   "cell_type": "code",
   "execution_count": 14,
   "source": [
    "latest_chkpt = tf.train.latest_checkpoint(\"logs\\\\fit\\\\20210906-132920\\\\weights\\\\\")\r\n",
    "\r\n",
    "model_2 = create_model(inner_settings_1,outer_settings_1)\r\n",
    "model_2.load_weights(latest_chkpt)\r\n",
    "\r\n",
    "similarity, representations = compare_representations(\r\n",
    "    my_test_seq[0],\r\n",
    "    my_test_seq[1],\r\n",
    "    model_2,\r\n",
    "    True\r\n",
    ")"
   ],
   "outputs": [
    {
     "output_type": "stream",
     "name": "stdout",
     "text": [
      "Similarity: 0.6044\n",
      "Prediction: 0.5675 => 1.0\n"
     ]
    }
   ],
   "metadata": {}
  },
  {
   "cell_type": "code",
   "execution_count": 15,
   "source": [
    "model_2 = fit_model(model_2,train_data,val_data,fit_settings_1,True)"
   ],
   "outputs": [
    {
     "output_type": "stream",
     "name": "stdout",
     "text": [
      "logs will be saved to: logs/fit/20210906-134539\n",
      "Epoch 1/10\n",
      "184/184 - 46s - loss: 0.6121 - accuracy: 0.8233 - precision: 0.6671 - val_loss: 0.6063 - val_accuracy: 0.8330 - val_precision: 0.6782\n",
      "Epoch 2/10\n",
      "184/184 - 26s - loss: 0.6068 - accuracy: 0.8453 - precision: 0.6975 - val_loss: 0.6011 - val_accuracy: 0.8485 - val_precision: 0.6998\n",
      "Epoch 3/10\n",
      "184/184 - 26s - loss: 0.6017 - accuracy: 0.8599 - precision: 0.7194 - val_loss: 0.5956 - val_accuracy: 0.8610 - val_precision: 0.7187\n",
      "Epoch 4/10\n",
      "184/184 - 26s - loss: 0.5964 - accuracy: 0.8732 - precision: 0.7405 - val_loss: 0.5904 - val_accuracy: 0.8721 - val_precision: 0.7364\n",
      "Epoch 5/10\n",
      "184/184 - 26s - loss: 0.5914 - accuracy: 0.8823 - precision: 0.7559 - val_loss: 0.5851 - val_accuracy: 0.8829 - val_precision: 0.7539\n",
      "Epoch 6/10\n",
      "184/184 - 26s - loss: 0.5861 - accuracy: 0.8922 - precision: 0.7734 - val_loss: 0.5796 - val_accuracy: 0.8918 - val_precision: 0.7701\n",
      "Epoch 7/10\n",
      "184/184 - 26s - loss: 0.5809 - accuracy: 0.8997 - precision: 0.7873 - val_loss: 0.5745 - val_accuracy: 0.8972 - val_precision: 0.7800\n",
      "Epoch 8/10\n",
      "184/184 - 26s - loss: 0.5758 - accuracy: 0.9059 - precision: 0.7993 - val_loss: 0.5693 - val_accuracy: 0.9028 - val_precision: 0.7908\n",
      "Epoch 9/10\n",
      "184/184 - 26s - loss: 0.5707 - accuracy: 0.9111 - precision: 0.8099 - val_loss: 0.5640 - val_accuracy: 0.9086 - val_precision: 0.8023\n",
      "Epoch 10/10\n",
      "184/184 - 26s - loss: 0.5655 - accuracy: 0.9157 - precision: 0.8190 - val_loss: 0.5587 - val_accuracy: 0.9118 - val_precision: 0.8088\n",
      "Model: \"outer_model_4\"\n",
      "_________________________________________________________________\n",
      "Layer (type)                 Output Shape              Param #   \n",
      "=================================================================\n",
      "inner_model_4 (InnerModel)   multiple                  240521    \n",
      "_________________________________________________________________\n",
      "distance_layer_4 (DistanceLa multiple                  0         \n",
      "_________________________________________________________________\n",
      "output_layer (Dense)         multiple                  2         \n",
      "=================================================================\n",
      "Total params: 240,523\n",
      "Trainable params: 240,363\n",
      "Non-trainable params: 160\n",
      "_________________________________________________________________\n",
      "None\n"
     ]
    }
   ],
   "metadata": {}
  },
  {
   "cell_type": "code",
   "execution_count": 16,
   "source": [
    "similarity, representations = compare_representations(\r\n",
    "    my_test_seq[0],\r\n",
    "    my_test_seq[1],\r\n",
    "    model_2,\r\n",
    "    True\r\n",
    ")"
   ],
   "outputs": [
    {
     "output_type": "stream",
     "name": "stdout",
     "text": [
      "Similarity: 0.6409\n",
      "Prediction: 0.5642 => 1.0\n"
     ]
    }
   ],
   "metadata": {}
  },
  {
   "cell_type": "code",
   "execution_count": 17,
   "source": [
    "for i in range(50):\r\n",
    "    check_similarity(governors_list[i],combination_list[i],tk, model_2,match[i],True)"
   ],
   "outputs": [
    {
     "output_type": "stream",
     "name": "stdout",
     "text": [
      "********************************\n",
      "Comparing: 'john rettie mckernan' and 'john buchanan floyd jr.'\n",
      "Cosine similarity = 0.0821, prediction=0.4312 true similarity = 0\n",
      "********************************\n",
      "Comparing: 'william j. janklow' and 'william prentice cooper'\n",
      "Cosine similarity = 0.0818, prediction=0.4311 true similarity = 0\n",
      "********************************\n",
      "Comparing: 'william henry seward' and 'william grant stratton'\n",
      "Cosine similarity = 0.4644, prediction=0.5223 true similarity = 0\n",
      "********************************\n",
      "Comparing: 'stevens thomson mason' and 'tompson stevens mason'\n",
      "Cosine similarity = 0.8761, prediction=0.6187 true similarity = 1\n",
      "********************************\n",
      "Comparing: 'william pinkney whyte' and 'william john bulow'\n",
      "Cosine similarity = 0.0069, prediction=0.4136 true similarity = 0\n",
      "********************************\n",
      "Comparing: 'john larue helm' and 'john price buchanan'\n",
      "Cosine similarity = 0.0197, prediction=0.4166 true similarity = 0\n",
      "********************************\n",
      "Comparing: 'william burton' and 'william bebb'\n",
      "Cosine similarity = 0.3587, prediction=0.4970 true similarity = 0\n",
      "********************************\n",
      "Comparing: 'richard yates sr.' and 'richard buell ogilvie'\n",
      "Cosine similarity = 0.1244, prediction=0.4411 true similarity = 0\n",
      "********************************\n",
      "Comparing: 'asa smith bushnell' and 'bushnell åsa smit'\n",
      "Cosine similarity = 0.9811, prediction=0.6421 true similarity = 1\n",
      "********************************\n",
      "Comparing: 'ebenezer sumner draper' and 'draper ebeneser sumner'\n",
      "Cosine similarity = 0.9837, prediction=0.6427 true similarity = 1\n",
      "********************************\n",
      "Comparing: 'john tyler sr.' and 'john hancock'\n",
      "Cosine similarity = 0.2478, prediction=0.4705 true similarity = 0\n",
      "********************************\n",
      "Comparing: 'william w. stickney' and 'william henry bissell'\n",
      "Cosine similarity = 0.3489, prediction=0.4947 true similarity = 0\n",
      "********************************\n",
      "Comparing: 'william pettus hobby' and 'william james samford'\n",
      "Cosine similarity = 0.0076, prediction=0.4138 true similarity = 0\n",
      "********************************\n",
      "Comparing: 'charles henry hardin' and 'charles jackson'\n",
      "Cosine similarity = 0.1284, prediction=0.4421 true similarity = 0\n",
      "********************************\n",
      "Comparing: 'james mcdowell' and 'james barbour'\n",
      "Cosine similarity = 0.0735, prediction=0.4291 true similarity = 0\n",
      "********************************\n",
      "Comparing: 'william eugene stanley' and 'william rainey marshall'\n",
      "Cosine similarity = 0.0466, prediction=0.4228 true similarity = 0\n",
      "********************************\n",
      "Comparing: 'thomas chipman mcrae' and 'thomas riley marshall'\n",
      "Cosine similarity = 0.5191, prediction=0.5354 true similarity = 0\n",
      "********************************\n",
      "Comparing: 'cornelius p. van ness' and 'nesas van p. corneli'\n",
      "Cosine similarity = 0.9260, prediction=0.6299 true similarity = 1\n",
      "********************************\n",
      "Comparing: 'john hubbard chafee' and 'john peter altgeld'\n",
      "Cosine similarity = 0.0299, prediction=0.4189 true similarity = 0\n",
      "********************************\n",
      "Comparing: 'william a. o’neill' and 'william owsley'\n",
      "Cosine similarity = 0.0134, prediction=0.4151 true similarity = 0\n",
      "********************************\n",
      "Comparing: 'henry howland crapo' and 'frank henry cooney'\n",
      "Cosine similarity = 0.3885, prediction=0.5041 true similarity = 0\n",
      "********************************\n",
      "Comparing: 'james edwin campbell' and 'james milton smith'\n",
      "Cosine similarity = 0.0686, prediction=0.4280 true similarity = 0\n",
      "********************************\n",
      "Comparing: 'william hendricks' and 'william lewis sharkey'\n",
      "Cosine similarity = 0.0552, prediction=0.4249 true similarity = 0\n",
      "********************************\n",
      "Comparing: 'john henry bartlett' and 'frank john lausche'\n",
      "Cosine similarity = 0.0896, prediction=0.4329 true similarity = 0\n",
      "********************************\n",
      "Comparing: 'george edward lounsbury' and 'george s. mickelson'\n",
      "Cosine similarity = 0.0601, prediction=0.4260 true similarity = 0\n",
      "********************************\n",
      "Comparing: 'william lloyd harding' and 'william t. cahill'\n",
      "Cosine similarity = 0.0386, prediction=0.4210 true similarity = 0\n",
      "********************************\n",
      "Comparing: 'george kilbon nash' and 'william george crosby'\n",
      "Cosine similarity = 0.4068, prediction=0.5085 true similarity = 0\n",
      "********************************\n",
      "Comparing: 'john eugene osborne' and 'john jacob cornwell'\n",
      "Cosine similarity = 0.1224, prediction=0.4407 true similarity = 0\n",
      "********************************\n",
      "Comparing: 'john hubbard' and 'john cummins edwards'\n",
      "Cosine similarity = 0.0155, prediction=0.4156 true similarity = 0\n",
      "********************************\n",
      "Comparing: 'christopher gore' and 'gore cristovo'\n",
      "Cosine similarity = 0.7009, prediction=0.5783 true similarity = 1\n",
      "********************************\n",
      "Comparing: 'william du hamel denney' and 'hamel guglielmo tok denney'\n",
      "Cosine similarity = 0.9298, prediction=0.6307 true similarity = 1\n",
      "********************************\n",
      "Comparing: 'howard m. gore' and 'm. gore howard'\n",
      "Cosine similarity = 0.9649, prediction=0.6385 true similarity = 1\n",
      "********************************\n",
      "Comparing: 'paul burney johnson, sr.' and 'johnson, sr. paul burney'\n",
      "Cosine similarity = 0.9754, prediction=0.6408 true similarity = 1\n",
      "********************************\n",
      "Comparing: 'john benjamin kendrick' and 'john lee carroll'\n",
      "Cosine similarity = 0.2714, prediction=0.4761 true similarity = 0\n",
      "********************************\n",
      "Comparing: 'louis jefferson brann' and 'lüìg' brann jefferson'\n",
      "Cosine similarity = 0.9557, prediction=0.6365 true similarity = 1\n",
      "********************************\n",
      "Comparing: 'john henry stelle' and 'henry tifft gage'\n",
      "Cosine similarity = 0.0149, prediction=0.4155 true similarity = 0\n",
      "********************************\n",
      "Comparing: 'james turner morehead' and 'james howard mcgrath'\n",
      "Cosine similarity = 0.2443, prediction=0.4696 true similarity = 0\n",
      "********************************\n",
      "Comparing: 'thomas nelson' and 'oliver henry nelson shoup'\n",
      "Cosine similarity = 0.4675, prediction=0.5231 true similarity = 0\n",
      "********************************\n",
      "Comparing: 'frank robert gooding' and 'frank d. white'\n",
      "Cosine similarity = 0.3496, prediction=0.4948 true similarity = 0\n",
      "********************************\n",
      "Comparing: 'john harte mcgraw' and 'john lee carroll'\n",
      "Cosine similarity = 0.1494, prediction=0.4470 true similarity = 0\n",
      "********************************\n",
      "Comparing: 'john gill shorter' and 'john g. rowland'\n",
      "Cosine similarity = 0.2262, prediction=0.4653 true similarity = 0\n",
      "********************************\n",
      "Comparing: 'william allen egan' and 'egan allen william'\n",
      "Cosine similarity = 0.9607, prediction=0.6376 true similarity = 1\n",
      "********************************\n",
      "Comparing: 'john butler smith' and 'john kasich'\n",
      "Cosine similarity = 0.0416, prediction=0.4217 true similarity = 0\n",
      "********************************\n",
      "Comparing: 'calvin lewellyn rampton' and 'charles calvin moore'\n",
      "Cosine similarity = 0.2252, prediction=0.4651 true similarity = 0\n",
      "********************************\n",
      "Comparing: 'john hathaway reed' and 'geddes john'\n",
      "Cosine similarity = 0.0199, prediction=0.4166 true similarity = 0\n",
      "********************************\n",
      "Comparing: 'john milton' and 'john orlando pastore'\n",
      "Cosine similarity = 0.0398, prediction=0.4213 true similarity = 0\n",
      "********************************\n",
      "Comparing: 'john tyler sr.' and 'john lee carroll'\n",
      "Cosine similarity = 0.0957, prediction=0.4344 true similarity = 0\n",
      "********************************\n",
      "Comparing: 'john w. reynolds' and 'w. reynolds henrich'\n",
      "Cosine similarity = 0.9647, prediction=0.6385 true similarity = 1\n",
      "********************************\n",
      "Comparing: 'luis muñoz marín' and 'louis rinus muñoz'\n",
      "Cosine similarity = 0.9087, prediction=0.6260 true similarity = 1\n",
      "********************************\n",
      "Comparing: 'george william smith' and 'smith wilhelm gorch'\n",
      "Cosine similarity = 0.9302, prediction=0.6308 true similarity = 1\n"
     ]
    }
   ],
   "metadata": {}
  },
  {
   "cell_type": "code",
   "execution_count": 20,
   "source": [
    "my_test = [\"Grigory Sharkov\",\"Sharkov Gregory\"]\r\n",
    "my_test_seq = preprocess_list(my_test, tk)\r\n",
    "\r\n",
    "print(f\"Comparing '{my_test[0]}' and '{my_test[1]}'\")\r\n",
    "similarity, representations = compare_representations(\r\n",
    "    my_test_seq[0],\r\n",
    "    my_test_seq[1],\r\n",
    "    model_2,\r\n",
    "    True\r\n",
    ")"
   ],
   "outputs": [
    {
     "output_type": "stream",
     "name": "stdout",
     "text": [
      "Comparing 'Grigory Sharkov' and 'Sharkov Gregory'\n",
      "Similarity: 0.9335\n",
      "Prediction: 0.6315 => 1.0\n"
     ]
    }
   ],
   "metadata": {}
  },
  {
   "cell_type": "markdown",
   "source": [
    "# The third generation of the model"
   ],
   "metadata": {}
  },
  {
   "cell_type": "code",
   "execution_count": 21,
   "source": [
    "latest_chkpt = tf.train.latest_checkpoint(\"logs\\\\fit\\\\20210906-134539\\\\weights\\\\\")\r\n",
    "\r\n",
    "model_3 = create_model(inner_settings_1,outer_settings_1)\r\n",
    "model_3.load_weights(latest_chkpt)\r\n",
    "model_3 = fit_model(model_3,train_data,val_data,fit_settings_1,True)"
   ],
   "outputs": [
    {
     "output_type": "stream",
     "name": "stdout",
     "text": [
      "logs will be saved to: logs/fit/20210906-220456\n",
      "Epoch 1/10\n",
      "184/184 - 55s - loss: 0.5603 - accuracy: 0.9175 - precision: 0.8224 - val_loss: 0.5536 - val_accuracy: 0.9149 - val_precision: 0.8157\n",
      "Epoch 2/10\n",
      "184/184 - 27s - loss: 0.5552 - accuracy: 0.9217 - precision: 0.8327 - val_loss: 0.5487 - val_accuracy: 0.9175 - val_precision: 0.8211\n",
      "Epoch 3/10\n",
      "184/184 - 27s - loss: 0.5502 - accuracy: 0.9241 - precision: 0.8377 - val_loss: 0.5435 - val_accuracy: 0.9207 - val_precision: 0.8280\n",
      "Epoch 4/10\n",
      "184/184 - 27s - loss: 0.5452 - accuracy: 0.9267 - precision: 0.8434 - val_loss: 0.5384 - val_accuracy: 0.9237 - val_precision: 0.8349\n",
      "Epoch 5/10\n",
      "184/184 - 27s - loss: 0.5403 - accuracy: 0.9282 - precision: 0.8471 - val_loss: 0.5337 - val_accuracy: 0.9256 - val_precision: 0.8393\n",
      "Epoch 6/10\n",
      "184/184 - 27s - loss: 0.5355 - accuracy: 0.9300 - precision: 0.8511 - val_loss: 0.5288 - val_accuracy: 0.9269 - val_precision: 0.8424\n",
      "Epoch 7/10\n",
      "184/184 - 28s - loss: 0.5307 - accuracy: 0.9312 - precision: 0.8546 - val_loss: 0.5239 - val_accuracy: 0.9284 - val_precision: 0.8463\n",
      "Epoch 8/10\n",
      "184/184 - 28s - loss: 0.5259 - accuracy: 0.9333 - precision: 0.8597 - val_loss: 0.5191 - val_accuracy: 0.9307 - val_precision: 0.8518\n",
      "Epoch 9/10\n",
      "184/184 - 27s - loss: 0.5211 - accuracy: 0.9348 - precision: 0.8629 - val_loss: 0.5144 - val_accuracy: 0.9325 - val_precision: 0.8558\n",
      "Epoch 10/10\n",
      "184/184 - 29s - loss: 0.5165 - accuracy: 0.9362 - precision: 0.8664 - val_loss: 0.5099 - val_accuracy: 0.9329 - val_precision: 0.8571\n",
      "Model: \"outer_model_5\"\n",
      "_________________________________________________________________\n",
      "Layer (type)                 Output Shape              Param #   \n",
      "=================================================================\n",
      "inner_model_5 (InnerModel)   multiple                  240521    \n",
      "_________________________________________________________________\n",
      "distance_layer_5 (DistanceLa multiple                  0         \n",
      "_________________________________________________________________\n",
      "output_layer (Dense)         multiple                  2         \n",
      "=================================================================\n",
      "Total params: 240,523\n",
      "Trainable params: 240,363\n",
      "Non-trainable params: 160\n",
      "_________________________________________________________________\n",
      "None\n"
     ]
    }
   ],
   "metadata": {}
  },
  {
   "cell_type": "markdown",
   "source": [
    "# The forth generation of the model"
   ],
   "metadata": {}
  },
  {
   "cell_type": "code",
   "execution_count": 22,
   "source": [
    "latest_chkpt = tf.train.latest_checkpoint(\"logs\\\\fit\\\\20210906-220456\\\\weights\\\\\")\r\n",
    "\r\n",
    "model_4 = create_model(inner_settings_1,outer_settings_1)\r\n",
    "model_4.load_weights(latest_chkpt)\r\n",
    "model_4 = fit_model(model_4,train_data,val_data,fit_settings_1,True)"
   ],
   "outputs": [
    {
     "output_type": "stream",
     "name": "stdout",
     "text": [
      "logs will be saved to: logs/fit/20210906-221101\n",
      "Epoch 1/10\n",
      "184/184 - 57s - loss: 0.5120 - accuracy: 0.9359 - precision: 0.8655 - val_loss: 0.5051 - val_accuracy: 0.9347 - val_precision: 0.8615\n",
      "Epoch 2/10\n",
      "184/184 - 28s - loss: 0.5075 - accuracy: 0.9380 - precision: 0.8706 - val_loss: 0.5004 - val_accuracy: 0.9351 - val_precision: 0.8625\n",
      "Epoch 3/10\n",
      "184/184 - 28s - loss: 0.5027 - accuracy: 0.9395 - precision: 0.8745 - val_loss: 0.4960 - val_accuracy: 0.9358 - val_precision: 0.8650\n",
      "Epoch 4/10\n",
      "184/184 - 28s - loss: 0.4985 - accuracy: 0.9399 - precision: 0.8759 - val_loss: 0.4917 - val_accuracy: 0.9369 - val_precision: 0.8678\n",
      "Epoch 5/10\n",
      "184/184 - 28s - loss: 0.4941 - accuracy: 0.9409 - precision: 0.8782 - val_loss: 0.4872 - val_accuracy: 0.9378 - val_precision: 0.8697\n",
      "Epoch 6/10\n",
      "184/184 - 28s - loss: 0.4898 - accuracy: 0.9419 - precision: 0.8806 - val_loss: 0.4830 - val_accuracy: 0.9384 - val_precision: 0.8720\n",
      "Epoch 7/10\n",
      "184/184 - 28s - loss: 0.4856 - accuracy: 0.9425 - precision: 0.8824 - val_loss: 0.4788 - val_accuracy: 0.9390 - val_precision: 0.8737\n",
      "Epoch 8/10\n",
      "184/184 - 28s - loss: 0.4814 - accuracy: 0.9429 - precision: 0.8836 - val_loss: 0.4747 - val_accuracy: 0.9402 - val_precision: 0.8763\n",
      "Epoch 9/10\n",
      "184/184 - 28s - loss: 0.4773 - accuracy: 0.9433 - precision: 0.8852 - val_loss: 0.4706 - val_accuracy: 0.9410 - val_precision: 0.8785\n",
      "Epoch 10/10\n",
      "184/184 - 28s - loss: 0.4734 - accuracy: 0.9441 - precision: 0.8865 - val_loss: 0.4669 - val_accuracy: 0.9410 - val_precision: 0.8791\n",
      "Model: \"outer_model_6\"\n",
      "_________________________________________________________________\n",
      "Layer (type)                 Output Shape              Param #   \n",
      "=================================================================\n",
      "inner_model_6 (InnerModel)   multiple                  240521    \n",
      "_________________________________________________________________\n",
      "distance_layer_6 (DistanceLa multiple                  0         \n",
      "_________________________________________________________________\n",
      "output_layer (Dense)         multiple                  2         \n",
      "=================================================================\n",
      "Total params: 240,523\n",
      "Trainable params: 240,363\n",
      "Non-trainable params: 160\n",
      "_________________________________________________________________\n",
      "None\n"
     ]
    }
   ],
   "metadata": {}
  },
  {
   "cell_type": "markdown",
   "source": [
    "# The fifth generation"
   ],
   "metadata": {}
  },
  {
   "cell_type": "code",
   "execution_count": 23,
   "source": [
    "latest_chkpt = tf.train.latest_checkpoint(\"logs\\\\fit\\\\20210906-221101\\\\weights\\\\\")\r\n",
    "\r\n",
    "model_5 = create_model(inner_settings_1,outer_settings_1)\r\n",
    "model_5.load_weights(latest_chkpt)\r\n",
    "model_5 = fit_model(model_5,train_data,val_data,fit_settings_1,True)"
   ],
   "outputs": [
    {
     "output_type": "stream",
     "name": "stdout",
     "text": [
      "logs will be saved to: logs/fit/20210906-221827\n",
      "Epoch 1/10\n",
      "184/184 - 58s - loss: 0.4694 - accuracy: 0.9438 - precision: 0.8860 - val_loss: 0.4628 - val_accuracy: 0.9418 - val_precision: 0.8809\n",
      "Epoch 2/10\n",
      "184/184 - 28s - loss: 0.4656 - accuracy: 0.9454 - precision: 0.8901 - val_loss: 0.4591 - val_accuracy: 0.9421 - val_precision: 0.8816\n",
      "Epoch 3/10\n",
      "184/184 - 27s - loss: 0.4617 - accuracy: 0.9456 - precision: 0.8910 - val_loss: 0.4553 - val_accuracy: 0.9424 - val_precision: 0.8827\n",
      "Epoch 4/10\n",
      "184/184 - 27s - loss: 0.4579 - accuracy: 0.9458 - precision: 0.8914 - val_loss: 0.4515 - val_accuracy: 0.9425 - val_precision: 0.8830\n",
      "Epoch 5/10\n",
      "184/184 - 28s - loss: 0.4542 - accuracy: 0.9465 - precision: 0.8930 - val_loss: 0.4478 - val_accuracy: 0.9433 - val_precision: 0.8848\n",
      "Epoch 6/10\n",
      "184/184 - 28s - loss: 0.4504 - accuracy: 0.9468 - precision: 0.8935 - val_loss: 0.4444 - val_accuracy: 0.9432 - val_precision: 0.8849\n",
      "Epoch 7/10\n",
      "184/184 - 28s - loss: 0.4468 - accuracy: 0.9471 - precision: 0.8945 - val_loss: 0.4408 - val_accuracy: 0.9441 - val_precision: 0.8864\n",
      "Epoch 8/10\n",
      "184/184 - 28s - loss: 0.4434 - accuracy: 0.9473 - precision: 0.8953 - val_loss: 0.4374 - val_accuracy: 0.9442 - val_precision: 0.8870\n",
      "Epoch 9/10\n",
      "184/184 - 28s - loss: 0.4397 - accuracy: 0.9480 - precision: 0.8962 - val_loss: 0.4338 - val_accuracy: 0.9442 - val_precision: 0.8868\n",
      "Epoch 10/10\n",
      "184/184 - 28s - loss: 0.4362 - accuracy: 0.9482 - precision: 0.8970 - val_loss: 0.4304 - val_accuracy: 0.9445 - val_precision: 0.8877\n",
      "Model: \"outer_model_7\"\n",
      "_________________________________________________________________\n",
      "Layer (type)                 Output Shape              Param #   \n",
      "=================================================================\n",
      "inner_model_7 (InnerModel)   multiple                  240521    \n",
      "_________________________________________________________________\n",
      "distance_layer_7 (DistanceLa multiple                  0         \n",
      "_________________________________________________________________\n",
      "output_layer (Dense)         multiple                  2         \n",
      "=================================================================\n",
      "Total params: 240,523\n",
      "Trainable params: 240,363\n",
      "Non-trainable params: 160\n",
      "_________________________________________________________________\n",
      "None\n"
     ]
    }
   ],
   "metadata": {}
  },
  {
   "cell_type": "code",
   "execution_count": 26,
   "source": [
    "my_test = [\"Grigory Sharkov\",\"Charkov Gregoriy\"]\r\n",
    "my_test_seq = preprocess_list(my_test, tk)\r\n",
    "\r\n",
    "print(f\"Comparing '{my_test[0]}' and '{my_test[1]}'\")\r\n",
    "similarity, representations = compare_representations(\r\n",
    "    my_test_seq[0],\r\n",
    "    my_test_seq[1],\r\n",
    "    model_5,\r\n",
    "    True\r\n",
    ")"
   ],
   "outputs": [
    {
     "output_type": "stream",
     "name": "stdout",
     "text": [
      "Comparing 'Grigory Sharkov' and 'Charkov Gregoriy'\n",
      "Similarity: 0.9735\n",
      "Prediction: 0.6560 => 1.0\n"
     ]
    }
   ],
   "metadata": {}
  },
  {
   "cell_type": "code",
   "execution_count": 27,
   "source": [
    "my_test = [\"Grigory Sharkov\",\"Ekaterina Sharkova\"]\r\n",
    "my_test_seq = preprocess_list(my_test, tk)\r\n",
    "\r\n",
    "print(f\"Comparing '{my_test[0]}' and '{my_test[1]}'\")\r\n",
    "similarity, representations = compare_representations(\r\n",
    "    my_test_seq[0],\r\n",
    "    my_test_seq[1],\r\n",
    "    model_5,\r\n",
    "    True\r\n",
    ")"
   ],
   "outputs": [
    {
     "output_type": "stream",
     "name": "stdout",
     "text": [
      "Comparing 'Grigory Sharkov' and 'Ekaterina Sharkova'\n",
      "Similarity: 0.0780\n",
      "Prediction: 0.3240 => 0.0\n"
     ]
    }
   ],
   "metadata": {}
  },
  {
   "cell_type": "code",
   "execution_count": 31,
   "source": [
    "my_test = [\"Guillaume Clinton\",\"William Clintone\"]\r\n",
    "my_test_seq = preprocess_list(my_test, tk)\r\n",
    "\r\n",
    "print(f\"Comparing '{my_test[0]}' and '{my_test[1]}'\")\r\n",
    "similarity, representations = compare_representations(\r\n",
    "    my_test_seq[0],\r\n",
    "    my_test_seq[1],\r\n",
    "    model_5,\r\n",
    "    True\r\n",
    ")"
   ],
   "outputs": [
    {
     "output_type": "stream",
     "name": "stdout",
     "text": [
      "Comparing 'Guillaume Clinton' and 'William Clintone'\n",
      "Similarity: 0.9767\n",
      "Prediction: 0.6571 => 1.0\n"
     ]
    }
   ],
   "metadata": {}
  },
  {
   "cell_type": "code",
   "execution_count": 10,
   "source": [
    "latest_chkpt = tf.train.latest_checkpoint(\"output_model\\\\architecture_with_abs\\\\20210906-221827\\\\weights\\\\\")\r\n",
    "model = create_model(inner_settings_1,outer_settings_1)\r\n",
    "model.load_weights(latest_chkpt)\r\n",
    "\r\n",
    "my_test = [\"Boris Jonson\",\"Moris Jonson\"]\r\n",
    "my_test_seq = preprocess_list(my_test, tk)\r\n",
    "\r\n",
    "print(f\"Comparing '{my_test[0]}' and '{my_test[1]}'\")\r\n",
    "similarity, representations = compare_representations(\r\n",
    "    my_test_seq[0],\r\n",
    "    my_test_seq[1],\r\n",
    "    model,\r\n",
    "    True\r\n",
    ")"
   ],
   "outputs": [
    {
     "output_type": "stream",
     "name": "stdout",
     "text": [
      "Comparing 'Boris Jonson' and 'Moris Jonson'\n",
      "Similarity: 0.5186\n",
      "Prediction: 0.4860 => 0.0\n"
     ]
    }
   ],
   "metadata": {}
  },
  {
   "cell_type": "code",
   "execution_count": 16,
   "source": [
    "my_test = [\"Boris Jonson\",\"Borya Jonson\"]\r\n",
    "my_test_seq = preprocess_list(my_test, tk)\r\n",
    "\r\n",
    "print(f\"Comparing '{my_test[0]}' and '{my_test[1]}'\")\r\n",
    "similarity, representations = compare_representations(\r\n",
    "    my_test_seq[0],\r\n",
    "    my_test_seq[1],\r\n",
    "    model,\r\n",
    "    True\r\n",
    ")"
   ],
   "outputs": [
    {
     "output_type": "stream",
     "name": "stdout",
     "text": [
      "Comparing 'Boris Jonson' and 'Borya Jonson'\n",
      "Similarity: 0.9861\n",
      "Prediction: 0.6604 => 1.0\n"
     ]
    }
   ],
   "metadata": {}
  },
  {
   "cell_type": "code",
   "execution_count": 17,
   "source": [
    "model.inner_model.summary()"
   ],
   "outputs": [
    {
     "output_type": "stream",
     "name": "stdout",
     "text": [
      "Model: \"inner_model_4\"\n",
      "_________________________________________________________________\n",
      "Layer (type)                 Output Shape              Param #   \n",
      "=================================================================\n",
      "inner_embedding (Embedding)  multiple                  66560     \n",
      "_________________________________________________________________\n",
      "inner_dense_after_embedding  multiple                  0 (unused)\n",
      "_________________________________________________________________\n",
      "dropout_4 (Dropout)          multiple                  0         \n",
      "_________________________________________________________________\n",
      "inner_gru_1 (GRU)            multiple                  0 (unused)\n",
      "_________________________________________________________________\n",
      "inner_gru_2 (GRU)            multiple                  0 (unused)\n",
      "_________________________________________________________________\n",
      "attention_4 (Attention)      multiple                  4921      \n",
      "_________________________________________________________________\n",
      "inner_bidirectional_1 (Bidir multiple                  132960    \n",
      "_________________________________________________________________\n",
      "inner_bidirectional_2 (Bidir multiple                  29280     \n",
      "_________________________________________________________________\n",
      "inner_normalizer (BatchNorma multiple                  320       \n",
      "_________________________________________________________________\n",
      "inner_dense (Dense)          multiple                  6480      \n",
      "=================================================================\n",
      "Total params: 240,521\n",
      "Trainable params: 240,361\n",
      "Non-trainable params: 160\n",
      "_________________________________________________________________\n"
     ]
    }
   ],
   "metadata": {}
  }
 ],
 "metadata": {
  "orig_nbformat": 4,
  "language_info": {
   "name": "python",
   "version": "3.9.5",
   "mimetype": "text/x-python",
   "codemirror_mode": {
    "name": "ipython",
    "version": 3
   },
   "pygments_lexer": "ipython3",
   "nbconvert_exporter": "python",
   "file_extension": ".py"
  },
  "kernelspec": {
   "name": "python3",
   "display_name": "Python 3.9.5 64-bit ('nlp_tensor': conda)"
  },
  "interpreter": {
   "hash": "fcbba280eac50286b31d8cb86df25696dcc42d5d7558ed290f125a3371417a84"
  }
 },
 "nbformat": 4,
 "nbformat_minor": 2
}