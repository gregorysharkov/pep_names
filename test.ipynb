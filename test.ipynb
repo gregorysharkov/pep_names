{
 "metadata": {
  "language_info": {
   "codemirror_mode": {
    "name": "ipython",
    "version": 3
   },
   "file_extension": ".py",
   "mimetype": "text/x-python",
   "name": "python",
   "nbconvert_exporter": "python",
   "pygments_lexer": "ipython3",
   "version": "3.9.5"
  },
  "orig_nbformat": 4,
  "kernelspec": {
   "name": "python3",
   "display_name": "Python 3.9.5 64-bit ('nlp_tensor': conda)"
  },
  "interpreter": {
   "hash": "fcbba280eac50286b31d8cb86df25696dcc42d5d7558ed290f125a3371417a84"
  }
 },
 "nbformat": 4,
 "nbformat_minor": 2,
 "cells": [
  {
   "cell_type": "code",
   "execution_count": 8,
   "metadata": {},
   "outputs": [
    {
     "output_type": "execute_result",
     "data": {
      "text/plain": [
       "                governor\n",
       "0            Jeff Colyer\n",
       "2          Eric Greitens\n",
       "4            Chuck Morse\n",
       "5       Ricardo Rosselló\n",
       "8            Phil Bryant\n",
       "...                  ...\n",
       "12322     Thomas Wharton\n",
       "12325      Patrick Henry\n",
       "12329      Meshech Weare\n",
       "12339  Archibald Bulloch\n",
       "12341     Nicholas Cooke\n",
       "\n",
       "[2388 rows x 1 columns]"
      ],
      "text/html": "<div>\n<style scoped>\n    .dataframe tbody tr th:only-of-type {\n        vertical-align: middle;\n    }\n\n    .dataframe tbody tr th {\n        vertical-align: top;\n    }\n\n    .dataframe thead th {\n        text-align: right;\n    }\n</style>\n<table border=\"1\" class=\"dataframe\">\n  <thead>\n    <tr style=\"text-align: right;\">\n      <th></th>\n      <th>governor</th>\n    </tr>\n  </thead>\n  <tbody>\n    <tr>\n      <th>0</th>\n      <td>Jeff Colyer</td>\n    </tr>\n    <tr>\n      <th>2</th>\n      <td>Eric Greitens</td>\n    </tr>\n    <tr>\n      <th>4</th>\n      <td>Chuck Morse</td>\n    </tr>\n    <tr>\n      <th>5</th>\n      <td>Ricardo Rosselló</td>\n    </tr>\n    <tr>\n      <th>8</th>\n      <td>Phil Bryant</td>\n    </tr>\n    <tr>\n      <th>...</th>\n      <td>...</td>\n    </tr>\n    <tr>\n      <th>12322</th>\n      <td>Thomas Wharton</td>\n    </tr>\n    <tr>\n      <th>12325</th>\n      <td>Patrick Henry</td>\n    </tr>\n    <tr>\n      <th>12329</th>\n      <td>Meshech Weare</td>\n    </tr>\n    <tr>\n      <th>12339</th>\n      <td>Archibald Bulloch</td>\n    </tr>\n    <tr>\n      <th>12341</th>\n      <td>Nicholas Cooke</td>\n    </tr>\n  </tbody>\n</table>\n<p>2388 rows × 1 columns</p>\n</div>"
     },
     "metadata": {},
     "execution_count": 8
    }
   ],
   "source": [
    "import pandas as pd\n",
    "path = \"data\\\\united_states_governors.csv\"\n",
    "data = pd.read_csv(path,sep=\",\")\n",
    "data = data[[\"governor\"]].drop_duplicates()\n",
    "data"
   ]
  }
 ]
}